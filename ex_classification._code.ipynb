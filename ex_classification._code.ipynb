{
 "cells": [
  {
   "cell_type": "markdown",
   "id": "be627ced",
   "metadata": {},
   "source": [
    "# Load Sequence Dataset Dengan Custom Function"
   ]
  },
  {
   "cell_type": "code",
   "execution_count": null,
   "id": "90628e48",
   "metadata": {
    "vscode": {
     "languageId": "plaintext"
    }
   },
   "outputs": [],
   "source": [
    "import os\n",
    "import cv2\n",
    "import numpy as np\n",
    "from tensorflow.keras.utils import to_categorical\n",
    "\n",
    "def load_sequence_dataset(base_dir, img_size=(224, 224), seq_len=10, class_names=None):\n",
    "    X, y = [], []\n",
    "\n",
    "    if class_names is None:\n",
    "        class_names = sorted(os.listdir(base_dir))\n",
    "    class_to_idx = {name: i for i, name in enumerate(class_names)}\n",
    "\n",
    "    for class_name in class_names:\n",
    "        class_path = os.path.join(base_dir, class_name)\n",
    "        for seq_folder in os.listdir(class_path):\n",
    "            frames = sorted(os.listdir(os.path.join(class_path, seq_folder)))[:seq_len]\n",
    "            sequence = []\n",
    "\n",
    "            for frame in frames:\n",
    "                img = cv2.imread(os.path.join(class_path, seq_folder, frame))\n",
    "                img = cv2.resize(img, img_size)\n",
    "                img = img.astype('float32') / 255.0\n",
    "                sequence.append(img)\n",
    "\n",
    "            if len(sequence) == seq_len:\n",
    "                X.append(sequence)\n",
    "                y.append(class_to_idx[class_name])\n",
    "\n",
    "    return np.array(X), to_categorical(y, num_classes=len(class_names))\n"
   ]
  },
  {
   "cell_type": "markdown",
   "id": "7e72a7d3",
   "metadata": {},
   "source": [
    "# Membangun Model CNN + LSTM + Dropout"
   ]
  },
  {
   "cell_type": "code",
   "execution_count": null,
   "id": "dd5ae80f",
   "metadata": {
    "vscode": {
     "languageId": "plaintext"
    }
   },
   "outputs": [],
   "source": [
    "from tensorflow.keras import layers, models, Input\n",
    "import tensorflow as tf\n",
    "\n",
    "def build_cnn_lstm_model(seq_len=10, input_shape=(224, 224, 3), num_classes=6):\n",
    "    input_layer = Input(shape=(seq_len, *input_shape))\n",
    "\n",
    "    base_cnn = tf.keras.applications.ResNet50(\n",
    "        include_top=False,\n",
    "        weights='imagenet',\n",
    "        pooling='avg',\n",
    "        input_shape=input_shape\n",
    "    )\n",
    "    base_cnn.trainable = False\n",
    "\n",
    "    x = layers.TimeDistributed(base_cnn)(input_layer)\n",
    "    x = layers.LSTM(128, return_sequences=True)(x)\n",
    "    x = layers.Dropout(0.3)(x)\n",
    "    x = layers.LSTM(128)(x)\n",
    "    x = layers.Dropout(0.3)(x)\n",
    "    x = layers.Dense(64, activation='relu')(x)\n",
    "    x = layers.Dropout(0.3)(x)\n",
    "    output = layers.Dense(num_classes, activation='softmax')(x)\n",
    "\n",
    "    model = models.Model(inputs=input_layer, outputs=output)\n",
    "    model.compile(optimizer='adam', loss='categorical_crossentropy', metrics=['accuracy'])\n",
    "    return model\n"
   ]
  },
  {
   "cell_type": "markdown",
   "id": "5c3c9947",
   "metadata": {},
   "source": [
    "# Training Model"
   ]
  },
  {
   "cell_type": "code",
   "execution_count": null,
   "id": "b6fbfd47",
   "metadata": {
    "vscode": {
     "languageId": "plaintext"
    }
   },
   "outputs": [],
   "source": [
    "X, y = load_sequence_dataset(\"dataset\", img_size=(224, 224), seq_len=10)\n",
    "from sklearn.model_selection import train_test_split\n",
    "X_train, X_val, y_train, y_val = train_test_split(X, y, test_size=0.2, random_state=42)\n",
    "\n",
    "model = build_cnn_lstm_model(seq_len=10, input_shape=(224, 224, 3), num_classes=6)\n",
    "history = model.fit(X_train, y_train, validation_data=(X_val, y_val), epochs=25, batch_size=8)"
   ]
  }
 ],
 "metadata": {
  "language_info": {
   "name": "python"
  }
 },
 "nbformat": 4,
 "nbformat_minor": 5
}
